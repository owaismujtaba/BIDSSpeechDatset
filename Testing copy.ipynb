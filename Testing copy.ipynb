{
 "cells": [
  {
   "cell_type": "code",
   "execution_count": 1,
   "metadata": {},
   "outputs": [],
   "source": [
    "from src.eeg_data_utils import EegDataProcessor\n",
    "from src.audio_data_utils import  AudioDataProcessor"
   ]
  },
  {
   "cell_type": "code",
   "execution_count": 2,
   "metadata": {},
   "outputs": [],
   "source": [
    "filepathEeg = '/home/owaismujtaba/BIDSSpeechDatset/rawData/F10/VCV/GOMEZCARMONA~ _67e7880a-4065-4e37-a165-58982f5f8c3c.edf'\n",
    "filepathAudio = '/home/owaismujtaba/BIDSSpeechDatset/rawData/F10/VCV/sub-MartaGomezCarmona_ses-VCV_Ses01_task-Default_run-001_eeg.xdf'"
   ]
  },
  {
   "cell_type": "code",
   "execution_count": 3,
   "metadata": {},
   "outputs": [
    {
     "name": "stdout",
     "output_type": "stream",
     "text": [
      "*******************Loading /home/owaismujtaba/BIDSSpeechDatset/rawData/F10/VCV/GOMEZCARMONA~ _67e7880a-4065-4e37-a165-58982f5f8c3c.edf File*******************\n",
      "Extracting EDF parameters from /home/owaismujtaba/BIDSSpeechDatset/rawData/F10/VCV/GOMEZCARMONA~ _67e7880a-4065-4e37-a165-58982f5f8c3c.edf...\n",
      "EDF file detected\n",
      "Setting channel info structure...\n",
      "Creating raw.info structure...\n",
      "Reading 0 ... 3055871  =      0.000 ...  5968.498 secs...\n",
      "*******************Loaded /home/owaismujtaba/BIDSSpeechDatset/rawData/F10/VCV/GOMEZCARMONA~ _67e7880a-4065-4e37-a165-58982f5f8c3c.edf File*******************\n",
      "***************************EEG Data Processing***************************\n",
      "****************Normalizing Triggers********************\n",
      "****************Correcting Triggers********************\n",
      "**************** Calculating EEG Transition Indexes********************\n",
      "***************************Mapping EEG events***************************\n",
      "***************************EEG events mapped***************************\n",
      "***************************EEG Data Processing Completed***************************\n"
     ]
    }
   ],
   "source": [
    "eegData = EegDataProcessor(filepathEeg)\n",
    "#audioData = AudioData(filepathAudio)"
   ]
  },
  {
   "cell_type": "code",
   "execution_count": 4,
   "metadata": {},
   "outputs": [
    {
     "name": "stdout",
     "output_type": "stream",
     "text": [
      "*********************************************************************************\n",
      "***************************Loading .xdf file***************************\n",
      "*******************************Completed*******************************\n",
      "***************************Loading Audio data***************************\n",
      "***************************Audio data loaded***************************\n",
      "***************************Mapping Audio events***************************\n",
      "***************************Audio events mapped***************************\n"
     ]
    }
   ],
   "source": [
    "audioData = AudioDataProcessor(filepathAudio)"
   ]
  },
  {
   "cell_type": "code",
   "execution_count": 5,
   "metadata": {},
   "outputs": [
    {
     "data": {
      "text/plain": [
       "[['ExperimentStarted', None, 1656403961.8758688, 9, 1647646],\n",
       " ['StartBlockSaying', 'Overt', 1656403961.876073, 71659, 1647655],\n",
       " ['StartReading:UKU', 'Overt', 1656403963.5009758, 66285, 1719314],\n",
       " ['ITI', 'Overt', 1656403965.0040205, 78895, 1785599],\n",
       " ['StartSaying:UKU', 'Overt', 1656403966.793003, 66262, 1864494]]"
      ]
     },
     "execution_count": 5,
     "metadata": {},
     "output_type": "execute_result"
    }
   ],
   "source": [
    "audioData.audioEvents[:5]"
   ]
  },
  {
   "cell_type": "code",
   "execution_count": 6,
   "metadata": {},
   "outputs": [
    {
     "data": {
      "text/plain": [
       "[['ExperimentEnded', None, 1656410768.0, 4636, 0],\n",
       " ['StartBlockSaying', 'Overt', 1656410777.0546875, 1007, 4636],\n",
       " ['StartReading', 'Overt', 1656410779.0214844, 769, 5643],\n",
       " ['ITI', 'Overt', 1656410780.5234375, 795, 6412]]"
      ]
     },
     "execution_count": 6,
     "metadata": {},
     "output_type": "execute_result"
    }
   ],
   "source": [
    "eegData.eegEvents[:4]"
   ]
  },
  {
   "cell_type": "code",
   "execution_count": 7,
   "metadata": {},
   "outputs": [
    {
     "data": {
      "text/plain": [
       "(1720, 2560)"
      ]
     },
     "execution_count": 7,
     "metadata": {},
     "output_type": "execute_result"
    }
   ],
   "source": [
    "len(audioData.audioEvents), len(eegData.eegEvents)"
   ]
  },
  {
   "cell_type": "code",
<<<<<<< HEAD
   "execution_count": 38,
   "metadata": {},
   "outputs": [],
   "source": [
    "eegEvents = eegData.eegEvents\n",
    "audioEvents = audioData.audioEvents"
   ]
  },
  {
   "cell_type": "code",
   "execution_count": 78,
   "metadata": {},
   "outputs": [],
   "source": [
    "audioEventTrackingIndex = 0\n",
    "synchronizedEvents = []\n",
    "words = []\n",
    "for audioindex in range(len(audioEvents)):\n",
    "    audioEvent = audioEvents[audioindex][0].split(\":\")\n",
    "    try:\n",
    "        word = audioEvent[1]\n",
    "    except:\n",
    "        word = None\n",
    "    audioEvent = audioEvent[0] \n",
    "    block = audioEvents[audioindex][1]\n",
    "    audioOnset = audioEvents[audioindex][2] \n",
    "    audioOnsetIndex = audioEvents[audioindex][4]\n",
    "    audioDuration = audioEvents[audioindex][3]\n",
    "    if 'StartReading' in audioEvent or 'StartSaying'in audioEvent:\n",
    "        for eegIndex in range(audioEventTrackingIndex, len(eegEvents)):\n",
    "            eegEvent = eegEvents[eegIndex][0]\n",
    "            eegOnset = eegEvents[eegIndex][2]\n",
    "            eegOnsetIndex = eegEvents[eegIndex][4]\n",
    "            eegDuration = eegEvents[eegIndex][3]\n",
    "            if eegEvent == audioEvent:\n",
    "                words.append(word)\n",
    "                audioEventTrackingIndex = eegIndex + 1\n",
    "                synchronizedEvents.append([eegEvent, block, audioOnset, audioDuration, audioOnsetIndex, eegOnset, eegDuration, eegOnsetIndex, word ])\n",
    "                break\n",
    "    else:\n",
    "        continue\n",
    "    \n",
    "    "
=======
   "execution_count": 8,
   "metadata": {},
   "outputs": [
    {
     "name": "stdout",
     "output_type": "stream",
     "text": [
      "***************************Synchronizing EEG and Audio Events***************************\n",
      "***************************EEG and Audio Events synchronized***************************\n"
     ]
    }
   ],
   "source": [
    "from src.eeg_audio_data import EegAudioDataProcessor\n",
    "\n",
    "data = EegAudioDataProcessor(eegData, audioData)"
>>>>>>> 9aed453 (synchronizing)
   ]
  },
  {
   "cell_type": "code",
<<<<<<< HEAD
   "execution_count": 80,
=======
   "execution_count": 14,
>>>>>>> 9aed453 (synchronizing)
   "metadata": {},
   "outputs": [
    {
     "data": {
      "text/plain": [
       "[['StartReading',\n",
       "  'Overt',\n",
<<<<<<< HEAD
       "  1656403963.5009758,\n",
       "  66285,\n",
       "  1719314,\n",
       "  1656410779.0214844,\n",
       "  769,\n",
       "  5643,\n",
       "  'UKU'],\n",
       " ['StartSaying',\n",
       "  'Overt',\n",
       "  1656403966.793003,\n",
       "  66262,\n",
       "  1864494,\n",
       "  1656410782.0761719,\n",
       "  769,\n",
       "  7207,\n",
       "  'UKU']]"
      ]
     },
     "execution_count": 80,
=======
       "  38.98628441742521,\n",
       "  1.5030447391279487,\n",
       "  1719314,\n",
       "  395.294921875,\n",
       "  1.505859375,\n",
       "  202391,\n",
       "  'UKU',\n",
       "  1656411163.2949219,\n",
       "  1656403963.5009758],\n",
       " ['StartSaying',\n",
       "  'Overt',\n",
       "  42.27831180260429,\n",
       "  1.502523202898033,\n",
       "  1864494,\n",
       "  398.58984375,\n",
       "  1.501953125,\n",
       "  204078,\n",
       "  'UKU',\n",
       "  1656411166.5898438,\n",
       "  1656403966.793003]]"
      ]
     },
     "execution_count": 14,
>>>>>>> 9aed453 (synchronizing)
     "metadata": {},
     "output_type": "execute_result"
    }
   ],
   "source": [
<<<<<<< HEAD
    "synchronizedEvents[:2]"
=======
    "data.synchronizedEvents[:2]"
>>>>>>> 9aed453 (synchronizing)
   ]
  },
  {
   "cell_type": "code",
<<<<<<< HEAD
   "execution_count": 81,
   "metadata": {},
   "outputs": [],
   "source": [
    "import pandas as pd\n",
    "\n",
    "columns = ['Event', 'Activity', 'AudioOnset', 'AudioDuration', 'AudioOnsetIndex',\n",
    "        'EEGOnset', 'EEGDuration', 'EEGOnsetIndex', 'Syllable'\n",
    "        ]\n",
    "\n",
    "data = pd.DataFrame(synchronizedEvents, columns=columns)"
   ]
  },
  {
   "cell_type": "code",
   "execution_count": 82,
=======
   "execution_count": 10,
>>>>>>> 9aed453 (synchronizing)
   "metadata": {},
   "outputs": [
    {
     "data": {
      "text/html": [
       "<div>\n",
       "<style scoped>\n",
       "    .dataframe tbody tr th:only-of-type {\n",
       "        vertical-align: middle;\n",
       "    }\n",
       "\n",
       "    .dataframe tbody tr th {\n",
       "        vertical-align: top;\n",
       "    }\n",
       "\n",
       "    .dataframe thead th {\n",
       "        text-align: right;\n",
       "    }\n",
       "</style>\n",
       "<table border=\"1\" class=\"dataframe\">\n",
       "  <thead>\n",
       "    <tr style=\"text-align: right;\">\n",
       "      <th></th>\n",
       "      <th>Event</th>\n",
       "      <th>Activity</th>\n",
       "      <th>AudioOnset</th>\n",
       "      <th>AudioDuration</th>\n",
       "      <th>AudioOnsetIndex</th>\n",
       "      <th>EEGOnset</th>\n",
       "      <th>EEGDuration</th>\n",
       "      <th>EEGOnsetIndex</th>\n",
       "      <th>Syllable</th>\n",
       "    </tr>\n",
       "  </thead>\n",
       "  <tbody>\n",
       "    <tr>\n",
       "      <th>0</th>\n",
       "      <td>StartReading</td>\n",
       "      <td>Overt</td>\n",
       "      <td>1.656404e+09</td>\n",
       "      <td>66285</td>\n",
       "      <td>1719314</td>\n",
       "      <td>1.656411e+09</td>\n",
       "      <td>769</td>\n",
       "      <td>5643</td>\n",
       "      <td>UKU</td>\n",
       "    </tr>\n",
       "    <tr>\n",
       "      <th>1</th>\n",
       "      <td>StartSaying</td>\n",
       "      <td>Overt</td>\n",
       "      <td>1.656404e+09</td>\n",
       "      <td>66262</td>\n",
       "      <td>1864494</td>\n",
       "      <td>1.656411e+09</td>\n",
       "      <td>769</td>\n",
       "      <td>7207</td>\n",
       "      <td>UKU</td>\n",
       "    </tr>\n",
       "    <tr>\n",
       "      <th>2</th>\n",
       "      <td>StartReading</td>\n",
       "      <td>Overt</td>\n",
       "      <td>1.656404e+09</td>\n",
       "      <td>66224</td>\n",
       "      <td>2019559</td>\n",
       "      <td>1.656411e+09</td>\n",
       "      <td>769</td>\n",
       "      <td>8793</td>\n",
       "      <td>IFI</td>\n",
       "    </tr>\n",
       "    <tr>\n",
       "      <th>3</th>\n",
       "      <td>StartSaying</td>\n",
       "      <td>Overt</td>\n",
       "      <td>1.656404e+09</td>\n",
       "      <td>66266</td>\n",
       "      <td>2171655</td>\n",
       "      <td>1.656411e+09</td>\n",
       "      <td>770</td>\n",
       "      <td>10403</td>\n",
       "      <td>IFI</td>\n",
       "    </tr>\n",
       "    <tr>\n",
       "      <th>4</th>\n",
       "      <td>StartReading</td>\n",
       "      <td>Overt</td>\n",
       "      <td>1.656404e+09</td>\n",
       "      <td>66224</td>\n",
       "      <td>2325649</td>\n",
       "      <td>1.656411e+09</td>\n",
       "      <td>769</td>\n",
       "      <td>12189</td>\n",
       "      <td>AFA</td>\n",
       "    </tr>\n",
       "    <tr>\n",
       "      <th>...</th>\n",
       "      <td>...</td>\n",
       "      <td>...</td>\n",
       "      <td>...</td>\n",
       "      <td>...</td>\n",
       "      <td>...</td>\n",
       "      <td>...</td>\n",
       "      <td>...</td>\n",
       "      <td>...</td>\n",
       "      <td>...</td>\n",
       "    </tr>\n",
       "    <tr>\n",
       "      <th>795</th>\n",
       "      <td>StartSaying</td>\n",
       "      <td>Inert</td>\n",
       "      <td>1.656407e+09</td>\n",
       "      <td>66216</td>\n",
       "      <td>138550786</td>\n",
       "      <td>1.656414e+09</td>\n",
       "      <td>770</td>\n",
       "      <td>1719582</td>\n",
       "      <td>IFI</td>\n",
       "    </tr>\n",
       "    <tr>\n",
       "      <th>796</th>\n",
       "      <td>StartReading</td>\n",
       "      <td>Inert</td>\n",
       "      <td>1.656407e+09</td>\n",
       "      <td>66220</td>\n",
       "      <td>138692642</td>\n",
       "      <td>1.656414e+09</td>\n",
       "      <td>768</td>\n",
       "      <td>1721367</td>\n",
       "      <td>UJU</td>\n",
       "    </tr>\n",
       "    <tr>\n",
       "      <th>797</th>\n",
       "      <td>StartSaying</td>\n",
       "      <td>Inert</td>\n",
       "      <td>1.656407e+09</td>\n",
       "      <td>66218</td>\n",
       "      <td>138826711</td>\n",
       "      <td>1.656414e+09</td>\n",
       "      <td>769</td>\n",
       "      <td>1723142</td>\n",
       "      <td>UJU</td>\n",
       "    </tr>\n",
       "    <tr>\n",
       "      <th>798</th>\n",
       "      <td>StartReading</td>\n",
       "      <td>Inert</td>\n",
       "      <td>1.656407e+09</td>\n",
       "      <td>66256</td>\n",
       "      <td>138966548</td>\n",
       "      <td>1.656414e+09</td>\n",
       "      <td>769</td>\n",
       "      <td>1724887</td>\n",
       "      <td>UFU</td>\n",
       "    </tr>\n",
       "    <tr>\n",
       "      <th>799</th>\n",
       "      <td>StartSaying</td>\n",
       "      <td>Inert</td>\n",
       "      <td>1.656407e+09</td>\n",
       "      <td>66223</td>\n",
       "      <td>139119857</td>\n",
       "      <td>1.656414e+09</td>\n",
       "      <td>770</td>\n",
       "      <td>1726568</td>\n",
       "      <td>UFU</td>\n",
       "    </tr>\n",
       "  </tbody>\n",
       "</table>\n",
       "<p>800 rows × 9 columns</p>\n",
       "</div>"
      ],
      "text/plain": [
<<<<<<< HEAD
       "            Event Activity    AudioOnset  AudioDuration  AudioOnsetIndex  \\\n",
       "0    StartReading    Overt  1.656404e+09          66285          1719314   \n",
       "1     StartSaying    Overt  1.656404e+09          66262          1864494   \n",
       "2    StartReading    Overt  1.656404e+09          66224          2019559   \n",
       "3     StartSaying    Overt  1.656404e+09          66266          2171655   \n",
       "4    StartReading    Overt  1.656404e+09          66224          2325649   \n",
       "..            ...      ...           ...            ...              ...   \n",
       "795   StartSaying    Inert  1.656407e+09          66216        138550786   \n",
       "796  StartReading    Inert  1.656407e+09          66220        138692642   \n",
       "797   StartSaying    Inert  1.656407e+09          66218        138826711   \n",
       "798  StartReading    Inert  1.656407e+09          66256        138966548   \n",
       "799   StartSaying    Inert  1.656407e+09          66223        139119857   \n",
       "\n",
       "         EEGOnset  EEGDuration  EEGOnsetIndex Syllable  \n",
       "0    1.656411e+09          769           5643      UKU  \n",
       "1    1.656411e+09          769           7207      UKU  \n",
       "2    1.656411e+09          769           8793      IFI  \n",
       "3    1.656411e+09          770          10403      IFI  \n",
       "4    1.656411e+09          769          12189      AFA  \n",
       "..            ...          ...            ...      ...  \n",
       "795  1.656414e+09          770        1719582      IFI  \n",
       "796  1.656414e+09          768        1721367      UJU  \n",
       "797  1.656414e+09          769        1723142      UJU  \n",
       "798  1.656414e+09          769        1724887      UFU  \n",
       "799  1.656414e+09          770        1726568      UFU  \n",
       "\n",
       "[800 rows x 9 columns]"
      ]
     },
     "execution_count": 82,
=======
       "800"
      ]
     },
     "execution_count": 10,
>>>>>>> 9aed453 (synchronizing)
     "metadata": {},
     "output_type": "execute_result"
    }
   ],
   "source": [
<<<<<<< HEAD
    "data"
=======
    "len(data.synchronizedEvents)"
>>>>>>> 9aed453 (synchronizing)
   ]
  },
  {
   "cell_type": "code",
<<<<<<< HEAD
   "execution_count": 83,
   "metadata": {},
   "outputs": [],
   "source": [
    "data.to_csv('events.csv')"
=======
   "execution_count": 11,
   "metadata": {},
   "outputs": [
    {
     "data": {
      "text/plain": [
       "(2560, 1720)"
      ]
     },
     "execution_count": 11,
     "metadata": {},
     "output_type": "execute_result"
    }
   ],
   "source": [
    "len(eegData.eegEvents), len(audioData.audioEvents)"
   ]
  },
  {
   "cell_type": "code",
   "execution_count": 12,
   "metadata": {},
   "outputs": [
    {
     "data": {
      "text/plain": [
       "(['StartReading', 'Overt', 1656410779.0214844, 769, 5643],\n",
       " ['StartReading:UKU', 'Overt', 1656403963.5009758, 66285, 1719314])"
      ]
     },
     "execution_count": 12,
     "metadata": {},
     "output_type": "execute_result"
    }
   ],
   "source": [
    "eegData.eegEvents[2], audioData.audioEvents[2]"
   ]
  },
  {
   "cell_type": "code",
   "execution_count": 13,
   "metadata": {},
   "outputs": [
    {
     "data": {
      "text/plain": [
       "['StartReading',\n",
       " 'Overt',\n",
       " 38.98628441742521,\n",
       " 1.5030447391279487,\n",
       " 1719314,\n",
       " 395.294921875,\n",
       " 1.505859375,\n",
       " 202391,\n",
       " 'UKU',\n",
       " 1656411163.2949219,\n",
       " 1656403963.5009758]"
      ]
     },
     "execution_count": 13,
     "metadata": {},
     "output_type": "execute_result"
    }
   ],
   "source": [
    "data.synchronizedEvents[0]"
   ]
  },
  {
   "cell_type": "code",
   "execution_count": 17,
   "metadata": {},
   "outputs": [],
   "source": [
    "audio = audioData.audio"
   ]
  },
  {
   "cell_type": "code",
   "execution_count": 21,
   "metadata": {},
   "outputs": [],
   "source": [
    "sample = audio[1719314: int(1719314+1.5*44100)]"
   ]
  },
  {
   "cell_type": "code",
   "execution_count": 22,
   "metadata": {},
   "outputs": [
    {
     "data": {
      "text/plain": [
       "(66150, 1)"
      ]
     },
     "execution_count": 22,
     "metadata": {},
     "output_type": "execute_result"
    }
   ],
   "source": [
    "sample.shape"
   ]
  },
  {
   "cell_type": "code",
   "execution_count": 23,
   "metadata": {},
   "outputs": [],
   "source": [
    "from scipy.io.wavfile import write\n"
   ]
  },
  {
   "cell_type": "code",
   "execution_count": 24,
   "metadata": {},
   "outputs": [],
   "source": [
    "write('a.wav', 44100, audio)"
>>>>>>> 9aed453 (synchronizing)
   ]
  },
  {
   "cell_type": "code",
   "execution_count": null,
   "metadata": {},
   "outputs": [],
   "source": []
  }
 ],
 "metadata": {
  "kernelspec": {
   "display_name": "Python 3 (ipykernel)",
   "language": "python",
   "name": "python3"
  },
  "language_info": {
   "codemirror_mode": {
    "name": "ipython",
    "version": 3
   },
   "file_extension": ".py",
   "mimetype": "text/x-python",
   "name": "python",
   "nbconvert_exporter": "python",
   "pygments_lexer": "ipython3",
   "version": "3.9.18"
  }
 },
 "nbformat": 4,
 "nbformat_minor": 4
}
