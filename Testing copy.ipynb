{
 "cells": [
  {
   "cell_type": "code",
   "execution_count": 1,
   "metadata": {},
   "outputs": [],
   "source": [
    "from src.eeg_data_utils import EegDataProcessor\n",
    "from src.audio_data_utils import  AudioDataProcessor"
   ]
  },
  {
   "cell_type": "code",
   "execution_count": 2,
   "metadata": {},
   "outputs": [],
   "source": [
    "filepathEeg = '/home/owaismujtaba/BIDSSpeechDatset/rawData/F10/VCV/GOMEZCARMONA~ _67e7880a-4065-4e37-a165-58982f5f8c3c.edf'\n",
    "filepathAudio = '/home/owaismujtaba/BIDSSpeechDatset/rawData/F10/VCV/sub-MartaGomezCarmona_ses-VCV_Ses01_task-Default_run-001_eeg.xdf'"
   ]
  },
  {
   "cell_type": "code",
   "execution_count": 3,
   "metadata": {},
   "outputs": [
    {
     "name": "stdout",
     "output_type": "stream",
     "text": [
      "*******************Loading /home/owaismujtaba/BIDSSpeechDatset/rawData/F10/VCV/GOMEZCARMONA~ _67e7880a-4065-4e37-a165-58982f5f8c3c.edf File*******************\n",
      "Extracting EDF parameters from /home/owaismujtaba/BIDSSpeechDatset/rawData/F10/VCV/GOMEZCARMONA~ _67e7880a-4065-4e37-a165-58982f5f8c3c.edf...\n",
      "EDF file detected\n",
      "Setting channel info structure...\n",
      "Creating raw.info structure...\n",
      "Reading 0 ... 3055871  =      0.000 ...  5968.498 secs...\n",
      "*******************Loaded /home/owaismujtaba/BIDSSpeechDatset/rawData/F10/VCV/GOMEZCARMONA~ _67e7880a-4065-4e37-a165-58982f5f8c3c.edf File*******************\n",
      "****************Normalizing Triggers********************\n",
      "****************Correcting Triggers********************\n",
      "**************** Calculating EEG Transition Indexes********************\n",
      "***************************Mapping EEG events***************************\n",
      "***************************EEG events mapped***************************\n"
     ]
    }
   ],
   "source": [
    "eegData = EegDataProcessor(filepathEeg)\n",
    "#audioData = AudioData(filepathAudio)"
   ]
  },
  {
   "cell_type": "code",
   "execution_count": 4,
   "metadata": {},
   "outputs": [
    {
     "data": {
      "text/plain": [
       "[['ExperimentEnded', None, 1656410768.0, 4636, 0],\n",
       " ['StartBlockSaying', 'Overt', 1656410777.0546875, 1007, 4636],\n",
       " ['StartReading', 'Overt', 1656410779.0214844, 769, 5643],\n",
       " ['ITI', 'Overt', 1656410780.5234375, 795, 6412],\n",
       " ['StartSaying', 'Overt', 1656410782.0761719, 769, 7207]]"
      ]
     },
     "execution_count": 4,
     "metadata": {},
     "output_type": "execute_result"
    }
   ],
   "source": [
    "eegData.eegEvents[:5]"
   ]
  },
  {
   "cell_type": "code",
   "execution_count": 5,
   "metadata": {},
   "outputs": [
    {
     "data": {
      "text/plain": [
       "(3055872,)"
      ]
     },
     "execution_count": 5,
     "metadata": {},
     "output_type": "execute_result"
    }
   ],
   "source": [
    "eegData.triggers.shape"
   ]
  },
  {
   "cell_type": "code",
   "execution_count": 6,
   "metadata": {},
   "outputs": [],
   "source": [
    "from matplotlib import pyplot as plt"
   ]
  },
  {
   "cell_type": "code",
   "execution_count": 7,
   "metadata": {},
   "outputs": [
    {
     "data": {
      "text/plain": [
       "[<matplotlib.lines.Line2D at 0x7d393db605e0>]"
      ]
     },
     "execution_count": 7,
     "metadata": {},
     "output_type": "execute_result"
    },
    {
     "data": {
      "image/png": "[encoded data removed]",
      "text/plain": [
       "<Figure size 640x480 with 1 Axes>"
      ]
     },
     "metadata": {},
     "output_type": "display_data"
    }
   ],
   "source": [
    "plt.plot(eegData.triggersNormalized[5600:10000])"
   ]
  },
  {
   "cell_type": "code",
   "execution_count": 8,
   "metadata": {},
   "outputs": [
    {
     "data": {
      "text/plain": [
       "[['ExperimentEnded', None, 1656410768.0, 4636, 0],\n",
       " ['StartBlockSaying', 'Overt', 1656410777.0546875, 1007, 4636],\n",
       " ['StartReading', 'Overt', 1656410779.0214844, 769, 5643],\n",
       " ['ITI', 'Overt', 1656410780.5234375, 795, 6412],\n",
       " ['StartSaying', 'Overt', 1656410782.0761719, 769, 7207],\n",
       " ['Fixation', 'Overt', 1656410783.578125, 817, 7976],\n",
       " ['StartReading', 'Overt', 1656410785.1738281, 769, 8793],\n",
       " ['ITI', 'Overt', 1656410786.6757812, 841, 9562],\n",
       " ['StartSaying', 'Overt', 1656410788.3183594, 770, 10403],\n",
       " ['Fixation', 'Overt', 1656410789.8222656, 1016, 11173],\n",
       " ['StartReading', 'Overt', 1656410791.8066406, 769, 12189],\n",
       " ['ITI', 'Overt', 1656410793.3085938, 786, 12958],\n",
       " ['StartSaying', 'Overt', 1656410794.84375, 770, 13744],\n",
       " ['Fixation', 'Overt', 1656410796.3476562, 950, 14514],\n",
       " ['StartReading', 'Overt', 1656410798.203125, 769, 15464],\n",
       " ['ITI', 'Overt', 1656410799.7050781, 893, 16233],\n",
       " ['StartSaying', 'Overt', 1656410801.4492188, 770, 17126],\n",
       " ['Fixation', 'Overt', 1656410802.953125, 931, 17896],\n",
       " ['StartReading', 'Overt', 1656410804.7714844, 769, 18827],\n",
       " ['ITI', 'Overt', 1656410806.2734375, 878, 19596],\n",
       " ['StartSaying', 'Overt', 1656410807.9882812, 769, 20474],\n",
       " ['Fixation', 'Overt', 1656410809.4902344, 908, 21243],\n",
       " ['StartReading', 'Overt', 1656410811.2636719, 768, 22151],\n",
       " ['ITI', 'Overt', 1656410812.7636719, 889, 22919],\n",
       " ['StartSaying', 'Overt', 1656410814.5, 768, 23808],\n",
       " ['Fixation', 'Overt', 1656410816.0, 907, 24576],\n",
       " ['StartReading', 'Overt', 1656410817.7714844, 768, 25483],\n",
       " ['ITI', 'Overt', 1656410819.2714844, 940, 26251],\n",
       " ['StartSaying', 'Overt', 1656410821.1074219, 769, 27191],\n",
       " ['Fixation', 'Overt', 1656410822.609375, 877, 27960],\n",
       " ['StartReading', 'Overt', 1656410824.3222656, 769, 28837],\n",
       " ['ITI', 'Overt', 1656410825.8242188, 837, 29606],\n",
       " ['StartSaying', 'Overt', 1656410827.4589844, 769, 30443],\n",
       " ['Fixation', 'Overt', 1656410828.9609375, 803, 31212],\n",
       " ['StartReading', 'Overt', 1656410830.5292969, 768, 32015],\n",
       " ['ITI', 'Overt', 1656410832.0292969, 835, 32783],\n",
       " ['StartSaying', 'Overt', 1656410833.6601562, 769, 33618],\n",
       " ['Fixation', 'Overt', 1656410835.1621094, 998, 34387],\n",
       " ['StartReading', 'Overt', 1656410837.1113281, 768, 35385],\n",
       " ['ITI', 'Overt', 1656410838.6113281, 851, 36153],\n",
       " ['StartSaying', 'Overt', 1656410840.2734375, 770, 37004],\n",
       " ['Fixation', 'Overt', 1656410841.7773438, 9336, 37774],\n",
       " ['StartBlockThinking', 'Inert', 1656410860.0117188, 855, 47110],\n",
       " ['StartReading', 'Inert', 1656410861.6816406, 770, 47965],\n",
       " ['ITI', 'Inert', 1656410863.1855469, 967, 48735],\n",
       " ['StartSaying', 'Inert', 1656410865.0742188, 768, 49702],\n",
       " ['Fixation', 'Inert', 1656410866.5742188, 803, 50470],\n",
       " ['StartReading', 'Inert', 1656410868.1425781, 768, 51273],\n",
       " ['ITI', 'Inert', 1656410869.6425781, 1023, 52041],\n",
       " ['StartSaying', 'Inert', 1656410871.640625, 769, 53064],\n",
       " ['Fixation', 'Inert', 1656410873.1425781, 854, 53833],\n",
       " ['StartReading', 'Inert', 1656410874.8105469, 769, 54687],\n",
       " ['ITI', 'Inert', 1656410876.3125, 901, 55456],\n",
       " ['StartSaying', 'Inert', 1656410878.0722656, 769, 56357],\n",
       " ['Fixation', 'Inert', 1656410879.5742188, 801, 57126],\n",
       " ['StartReading', 'Inert', 1656410881.1386719, 770, 57927],\n",
       " ['ITI', 'Inert', 1656410882.6425781, 848, 58697],\n",
       " ['StartSaying', 'Inert', 1656410884.2988281, 769, 59545],\n",
       " ['Fixation', 'Inert', 1656410885.8007812, 863, 60314],\n",
       " ['StartReading', 'Inert', 1656410887.4863281, 769, 61177],\n",
       " ['ITI', 'Inert', 1656410888.9882812, 853, 61946],\n",
       " ['StartSaying', 'Inert', 1656410890.6542969, 770, 62799],\n",
       " ['Fixation', 'Inert', 1656410892.1582031, 1005, 63569],\n",
       " ['StartReading', 'Inert', 1656410894.1210938, 769, 64574],\n",
       " ['ITI', 'Inert', 1656410895.6230469, 994, 65343],\n",
       " ['StartSaying', 'Inert', 1656410897.5644531, 769, 66337],\n",
       " ['Fixation', 'Inert', 1656410899.0664062, 1029, 67106],\n",
       " ['StartReading', 'Inert', 1656410901.0761719, 769, 68135],\n",
       " ['ITI', 'Inert', 1656410902.578125, 770, 68904],\n",
       " ['StartSaying', 'Inert', 1656410904.0820312, 770, 69674],\n",
       " ['Fixation', 'Inert', 1656410905.5859375, 1237, 70444],\n",
       " ['StartReading', 'Inert', 1656410908.0019531, 769, 71681],\n",
       " ['ITI', 'Inert', 1656410909.5039062, 785, 72450],\n",
       " ['StartSaying', 'Inert', 1656410911.0371094, 769, 73235],\n",
       " ['Fixation', 'Inert', 1656410912.5390625, 975, 74004],\n",
       " ['StartReading', 'Inert', 1656410914.4433594, 769, 74979],\n",
       " ['ITI', 'Inert', 1656410915.9453125, 783, 75748],\n",
       " ['StartSaying', 'Inert', 1656410917.4746094, 770, 76531],\n",
       " ['Fixation', 'Inert', 1656410918.9785156, 866, 77301],\n",
       " ['StartReading', 'Inert', 1656410920.6699219, 770, 78167],\n",
       " ['ITI', 'Inert', 1656410922.1738281, 917, 78937],\n",
       " ['StartSaying', 'Inert', 1656410923.9648438, 769, 79854],\n",
       " ['Fixation', 'Inert', 1656410925.4667969, 120936, 80623],\n",
       " ['StartBlockSaying', 'Overt', 1656411161.671875, 831, 201560],\n",
       " ['StartReading', 'Overt', 1656411163.2949219, 771, 202391],\n",
       " ['ITI', 'Overt', 1656411164.8007812, 916, 203162],\n",
       " ['StartSaying', 'Overt', 1656411166.5898438, 769, 204078],\n",
       " ['Fixation', 'Overt', 1656411168.0917969, 1031, 204847],\n",
       " ['StartReading', 'Overt', 1656411170.1054688, 769, 205878],\n",
       " ['ITI', 'Overt', 1656411171.6074219, 997, 206647],\n",
       " ['StartSaying', 'Overt', 1656411173.5546875, 770, 207644],\n",
       " ['Fixation', 'Overt', 1656411175.0585938, 1018, 208414],\n",
       " ['StartReading', 'Overt', 1656411177.046875, 770, 209432],\n",
       " ['ITI', 'Overt', 1656411178.5507812, 799, 210202],\n",
       " ['StartSaying', 'Overt', 1656411180.1113281, 769, 211001],\n",
       " ['Fixation', 'Overt', 1656411181.6132812, 864, 211770],\n",
       " ['StartReading', 'Overt', 1656411183.3007812, 769, 212634],\n",
       " ['ITI', 'Overt', 1656411184.8027344, 803, 213403],\n",
       " ['StartSaying', 'Overt', 1656411186.3710938, 769, 214206],\n",
       " ['Fixation', 'Overt', 1656411187.8730469, 890, 214975],\n",
       " ['StartReading', 'Overt', 1656411189.6113281, 769, 215865],\n",
       " ['ITI', 'Overt', 1656411191.1132812, 800, 216634],\n",
       " ['StartSaying', 'Overt', 1656411192.6757812, 770, 217434],\n",
       " ['Fixation', 'Overt', 1656411194.1796875, 1018, 218204],\n",
       " ['StartReading', 'Overt', 1656411196.1679688, 768, 219222],\n",
       " ['ITI', 'Overt', 1656411197.6679688, 998, 219990],\n",
       " ['StartSaying', 'Overt', 1656411199.6171875, 769, 220988],\n",
       " ['Fixation', 'Overt', 1656411201.1191406, 911, 221757],\n",
       " ['StartReading', 'Overt', 1656411202.8984375, 768, 222668],\n",
       " ['ITI', 'Overt', 1656411204.3984375, 915, 223436],\n",
       " ['StartSaying', 'Overt', 1656411206.1855469, 768, 224351],\n",
       " ['Fixation', 'Overt', 1656411207.6855469, 942, 225119],\n",
       " ['StartReading', 'Overt', 1656411209.5253906, 768, 226061],\n",
       " ['ITI', 'Overt', 1656411211.0253906, 803, 226829],\n",
       " ['StartSaying', 'Overt', 1656411212.59375, 769, 227632],\n",
       " ['Fixation', 'Overt', 1656411214.0957031, 871, 228401],\n",
       " ['StartReading', 'Overt', 1656411215.796875, 769, 229272],\n",
       " ['ITI', 'Overt', 1656411217.2988281, 832, 230041],\n",
       " ['StartSaying', 'Overt', 1656411218.9238281, 767, 230873],\n",
       " ['Fixation', 'Overt', 1656411220.421875, 1004, 231640]]"
      ]
     },
     "execution_count": 8,
     "metadata": {},
     "output_type": "execute_result"
    }
   ],
   "source": [
    "eegData.eegEvents[0:120]"
   ]
  },
  {
   "cell_type": "code",
   "execution_count": 9,
   "metadata": {},
   "outputs": [
    {
     "name": "stdout",
     "output_type": "stream",
     "text": [
      "*********************************************************************************\n",
      "***************************Loading .xdf file***************************\n",
      "*******************************Completed*******************************\n",
      "***************************Loading Audio data***************************\n",
      "***************************Mapping Audio events***************************\n",
      "***************************Audio events mapped***************************\n"
     ]
    }
   ],
   "source": [
    "audioData = AudioDataProcessor(filepathAudio)"
   ]
  },
  {
   "cell_type": "code",
   "execution_count": 19,
   "metadata": {},
   "outputs": [
    {
     "data": {
      "text/plain": [
       "[['ExperimentStarted', None, 1656403961.8758688, 9, 1647646],\n",
       " ['StartBlockSaying', 'Overt', 1656403961.876073, 71659, 1647655],\n",
       " ['StartReading:UKU', 'Overt', 1656403963.5009758, 66285, 1719314],\n",
       " ['ITI', 'Overt', 1656403965.0040205, 78895, 1785599],\n",
       " ['StartSaying:UKU', 'Overt', 1656403966.793003, 66262, 1864494]]"
      ]
     },
     "execution_count": 19,
     "metadata": {},
     "output_type": "execute_result"
    }
   ],
   "source": [
    "audioData.audioEvents[:5]"
   ]
  },
  {
   "cell_type": "code",
   "execution_count": 17,
   "metadata": {},
   "outputs": [
    {
     "data": {
      "text/plain": [
       "[['ExperimentEnded', None, 1656410768.0, 4636, 0],\n",
       " ['StartBlockSaying', 'Overt', 1656410777.0546875, 1007, 4636],\n",
       " ['StartReading', 'Overt', 1656410779.0214844, 769, 5643],\n",
       " ['ITI', 'Overt', 1656410780.5234375, 795, 6412]]"
      ]
     },
     "execution_count": 17,
     "metadata": {},
     "output_type": "execute_result"
    }
   ],
   "source": [
    "eegData.eegEvents[:4]"
   ]
  },
  {
   "cell_type": "code",
   "execution_count": 13,
   "metadata": {},
   "outputs": [
    {
     "data": {
      "text/plain": [
       "(1720, 2560)"
      ]
     },
     "execution_count": 13,
     "metadata": {},
     "output_type": "execute_result"
    }
   ],
   "source": [
    "len(audioData.audioEvents), len(eegData.eegEvents)"
   ]
  },
  {
   "cell_type": "code",
   "execution_count": 38,
   "metadata": {},
   "outputs": [],
   "source": [
    "eegEvents = eegData.eegEvents\n",
    "audioEvents = audioData.audioEvents"
   ]
  },
  {
   "cell_type": "code",
   "execution_count": 78,
   "metadata": {},
   "outputs": [],
   "source": [
    "audioEventTrackingIndex = 0\n",
    "synchronizedEvents = []\n",
    "words = []\n",
    "for audioindex in range(len(audioEvents)):\n",
    "    audioEvent = audioEvents[audioindex][0].split(\":\")\n",
    "    try:\n",
    "        word = audioEvent[1]\n",
    "    except:\n",
    "        word = None\n",
    "    audioEvent = audioEvent[0] \n",
    "    block = audioEvents[audioindex][1]\n",
    "    audioOnset = audioEvents[audioindex][2] \n",
    "    audioOnsetIndex = audioEvents[audioindex][4]\n",
    "    audioDuration = audioEvents[audioindex][3]\n",
    "    if 'StartReading' in audioEvent or 'StartSaying'in audioEvent:\n",
    "        for eegIndex in range(audioEventTrackingIndex, len(eegEvents)):\n",
    "            eegEvent = eegEvents[eegIndex][0]\n",
    "            eegOnset = eegEvents[eegIndex][2]\n",
    "            eegOnsetIndex = eegEvents[eegIndex][4]\n",
    "            eegDuration = eegEvents[eegIndex][3]\n",
    "            if eegEvent == audioEvent:\n",
    "                words.append(word)\n",
    "                audioEventTrackingIndex = eegIndex + 1\n",
    "                synchronizedEvents.append([eegEvent, block, audioOnset, audioDuration, audioOnsetIndex, eegOnset, eegDuration, eegOnsetIndex, word ])\n",
    "                break\n",
    "    else:\n",
    "        continue\n",
    "    \n",
    "    "
   ]
  },
  {
   "cell_type": "code",
   "execution_count": 80,
   "metadata": {},
   "outputs": [
    {
     "data": {
      "text/plain": [
       "[['StartReading',\n",
       "  'Overt',\n",
       "  1656403963.5009758,\n",
       "  66285,\n",
       "  1719314,\n",
       "  1656410779.0214844,\n",
       "  769,\n",
       "  5643,\n",
       "  'UKU'],\n",
       " ['StartSaying',\n",
       "  'Overt',\n",
       "  1656403966.793003,\n",
       "  66262,\n",
       "  1864494,\n",
       "  1656410782.0761719,\n",
       "  769,\n",
       "  7207,\n",
       "  'UKU']]"
      ]
     },
     "execution_count": 80,
     "metadata": {},
     "output_type": "execute_result"
    }
   ],
   "source": [
    "synchronizedEvents[:2]"
   ]
  },
  {
   "cell_type": "code",
   "execution_count": 81,
   "metadata": {},
   "outputs": [],
   "source": [
    "import pandas as pd\n",
    "\n",
    "columns = ['Event', 'Activity', 'AudioOnset', 'AudioDuration', 'AudioOnsetIndex',\n",
    "        'EEGOnset', 'EEGDuration', 'EEGOnsetIndex', 'Syllable'\n",
    "        ]\n",
    "\n",
    "data = pd.DataFrame(synchronizedEvents, columns=columns)"
   ]
  },
  {
   "cell_type": "code",
   "execution_count": 82,
   "metadata": {},
   "outputs": [
    {
     "data": {
      "text/html": [
       "<div>\n",
       "<style scoped>\n",
       "    .dataframe tbody tr th:only-of-type {\n",
       "        vertical-align: middle;\n",
       "    }\n",
       "\n",
       "    .dataframe tbody tr th {\n",
       "        vertical-align: top;\n",
       "    }\n",
       "\n",
       "    .dataframe thead th {\n",
       "        text-align: right;\n",
       "    }\n",
       "</style>\n",
       "<table border=\"1\" class=\"dataframe\">\n",
       "  <thead>\n",
       "    <tr style=\"text-align: right;\">\n",
       "      <th></th>\n",
       "      <th>Event</th>\n",
       "      <th>Activity</th>\n",
       "      <th>AudioOnset</th>\n",
       "      <th>AudioDuration</th>\n",
       "      <th>AudioOnsetIndex</th>\n",
       "      <th>EEGOnset</th>\n",
       "      <th>EEGDuration</th>\n",
       "      <th>EEGOnsetIndex</th>\n",
       "      <th>Syllable</th>\n",
       "    </tr>\n",
       "  </thead>\n",
       "  <tbody>\n",
       "    <tr>\n",
       "      <th>0</th>\n",
       "      <td>StartReading</td>\n",
       "      <td>Overt</td>\n",
       "      <td>1.656404e+09</td>\n",
       "      <td>66285</td>\n",
       "      <td>1719314</td>\n",
       "      <td>1.656411e+09</td>\n",
       "      <td>769</td>\n",
       "      <td>5643</td>\n",
       "      <td>UKU</td>\n",
       "    </tr>\n",
       "    <tr>\n",
       "      <th>1</th>\n",
       "      <td>StartSaying</td>\n",
       "      <td>Overt</td>\n",
       "      <td>1.656404e+09</td>\n",
       "      <td>66262</td>\n",
       "      <td>1864494</td>\n",
       "      <td>1.656411e+09</td>\n",
       "      <td>769</td>\n",
       "      <td>7207</td>\n",
       "      <td>UKU</td>\n",
       "    </tr>\n",
       "    <tr>\n",
       "      <th>2</th>\n",
       "      <td>StartReading</td>\n",
       "      <td>Overt</td>\n",
       "      <td>1.656404e+09</td>\n",
       "      <td>66224</td>\n",
       "      <td>2019559</td>\n",
       "      <td>1.656411e+09</td>\n",
       "      <td>769</td>\n",
       "      <td>8793</td>\n",
       "      <td>IFI</td>\n",
       "    </tr>\n",
       "    <tr>\n",
       "      <th>3</th>\n",
       "      <td>StartSaying</td>\n",
       "      <td>Overt</td>\n",
       "      <td>1.656404e+09</td>\n",
       "      <td>66266</td>\n",
       "      <td>2171655</td>\n",
       "      <td>1.656411e+09</td>\n",
       "      <td>770</td>\n",
       "      <td>10403</td>\n",
       "      <td>IFI</td>\n",
       "    </tr>\n",
       "    <tr>\n",
       "      <th>4</th>\n",
       "      <td>StartReading</td>\n",
       "      <td>Overt</td>\n",
       "      <td>1.656404e+09</td>\n",
       "      <td>66224</td>\n",
       "      <td>2325649</td>\n",
       "      <td>1.656411e+09</td>\n",
       "      <td>769</td>\n",
       "      <td>12189</td>\n",
       "      <td>AFA</td>\n",
       "    </tr>\n",
       "    <tr>\n",
       "      <th>...</th>\n",
       "      <td>...</td>\n",
       "      <td>...</td>\n",
       "      <td>...</td>\n",
       "      <td>...</td>\n",
       "      <td>...</td>\n",
       "      <td>...</td>\n",
       "      <td>...</td>\n",
       "      <td>...</td>\n",
       "      <td>...</td>\n",
       "    </tr>\n",
       "    <tr>\n",
       "      <th>795</th>\n",
       "      <td>StartSaying</td>\n",
       "      <td>Inert</td>\n",
       "      <td>1.656407e+09</td>\n",
       "      <td>66216</td>\n",
       "      <td>138550786</td>\n",
       "      <td>1.656414e+09</td>\n",
       "      <td>770</td>\n",
       "      <td>1719582</td>\n",
       "      <td>IFI</td>\n",
       "    </tr>\n",
       "    <tr>\n",
       "      <th>796</th>\n",
       "      <td>StartReading</td>\n",
       "      <td>Inert</td>\n",
       "      <td>1.656407e+09</td>\n",
       "      <td>66220</td>\n",
       "      <td>138692642</td>\n",
       "      <td>1.656414e+09</td>\n",
       "      <td>768</td>\n",
       "      <td>1721367</td>\n",
       "      <td>UJU</td>\n",
       "    </tr>\n",
       "    <tr>\n",
       "      <th>797</th>\n",
       "      <td>StartSaying</td>\n",
       "      <td>Inert</td>\n",
       "      <td>1.656407e+09</td>\n",
       "      <td>66218</td>\n",
       "      <td>138826711</td>\n",
       "      <td>1.656414e+09</td>\n",
       "      <td>769</td>\n",
       "      <td>1723142</td>\n",
       "      <td>UJU</td>\n",
       "    </tr>\n",
       "    <tr>\n",
       "      <th>798</th>\n",
       "      <td>StartReading</td>\n",
       "      <td>Inert</td>\n",
       "      <td>1.656407e+09</td>\n",
       "      <td>66256</td>\n",
       "      <td>138966548</td>\n",
       "      <td>1.656414e+09</td>\n",
       "      <td>769</td>\n",
       "      <td>1724887</td>\n",
       "      <td>UFU</td>\n",
       "    </tr>\n",
       "    <tr>\n",
       "      <th>799</th>\n",
       "      <td>StartSaying</td>\n",
       "      <td>Inert</td>\n",
       "      <td>1.656407e+09</td>\n",
       "      <td>66223</td>\n",
       "      <td>139119857</td>\n",
       "      <td>1.656414e+09</td>\n",
       "      <td>770</td>\n",
       "      <td>1726568</td>\n",
       "      <td>UFU</td>\n",
       "    </tr>\n",
       "  </tbody>\n",
       "</table>\n",
       "<p>800 rows × 9 columns</p>\n",
       "</div>"
      ],
      "text/plain": [
       "            Event Activity    AudioOnset  AudioDuration  AudioOnsetIndex  \\\n",
       "0    StartReading    Overt  1.656404e+09          66285          1719314   \n",
       "1     StartSaying    Overt  1.656404e+09          66262          1864494   \n",
       "2    StartReading    Overt  1.656404e+09          66224          2019559   \n",
       "3     StartSaying    Overt  1.656404e+09          66266          2171655   \n",
       "4    StartReading    Overt  1.656404e+09          66224          2325649   \n",
       "..            ...      ...           ...            ...              ...   \n",
       "795   StartSaying    Inert  1.656407e+09          66216        138550786   \n",
       "796  StartReading    Inert  1.656407e+09          66220        138692642   \n",
       "797   StartSaying    Inert  1.656407e+09          66218        138826711   \n",
       "798  StartReading    Inert  1.656407e+09          66256        138966548   \n",
       "799   StartSaying    Inert  1.656407e+09          66223        139119857   \n",
       "\n",
       "         EEGOnset  EEGDuration  EEGOnsetIndex Syllable  \n",
       "0    1.656411e+09          769           5643      UKU  \n",
       "1    1.656411e+09          769           7207      UKU  \n",
       "2    1.656411e+09          769           8793      IFI  \n",
       "3    1.656411e+09          770          10403      IFI  \n",
       "4    1.656411e+09          769          12189      AFA  \n",
       "..            ...          ...            ...      ...  \n",
       "795  1.656414e+09          770        1719582      IFI  \n",
       "796  1.656414e+09          768        1721367      UJU  \n",
       "797  1.656414e+09          769        1723142      UJU  \n",
       "798  1.656414e+09          769        1724887      UFU  \n",
       "799  1.656414e+09          770        1726568      UFU  \n",
       "\n",
       "[800 rows x 9 columns]"
      ]
     },
     "execution_count": 82,
     "metadata": {},
     "output_type": "execute_result"
    }
   ],
   "source": [
    "data"
   ]
  },
  {
   "cell_type": "code",
   "execution_count": 83,
   "metadata": {},
   "outputs": [],
   "source": [
    "data.to_csv('events.csv')"
   ]
  },
  {
   "cell_type": "code",
   "execution_count": null,
   "metadata": {},
   "outputs": [],
   "source": []
  }
 ],
 "metadata": {
  "kernelspec": {
   "display_name": "Python 3 (ipykernel)",
   "language": "python",
   "name": "python3"
  },
  "language_info": {
   "codemirror_mode": {
    "name": "ipython",
    "version": 3
   },
   "file_extension": ".py",
   "mimetype": "text/x-python",
   "name": "python",
   "nbconvert_exporter": "python",
   "pygments_lexer": "ipython3",
   "version": "3.9.18"
  }
 },
 "nbformat": 4,
 "nbformat_minor": 4
}
