{
 "cells": [
  {
   "cell_type": "code",
   "execution_count": 1,
   "metadata": {},
   "outputs": [],
   "source": [
    "from src.eeg_data_utils import EegDataProcessor\n",
    "from src.audio_data_utils import  AudioDataProcessor"
   ]
  },
  {
   "cell_type": "code",
   "execution_count": 2,
   "metadata": {},
   "outputs": [],
   "source": [
    "filepathEeg = '/home/owaismujtaba/BIDSSpeechDatset/rawData/F10/VCV/GOMEZCARMONA~ _67e7880a-4065-4e37-a165-58982f5f8c3c.edf'\n",
    "filepathAudio = '/home/owaismujtaba/BIDSSpeechDatset/rawData/F10/VCV/sub-MartaGomezCarmona_ses-VCV_Ses01_task-Default_run-001_eeg.xdf'"
   ]
  },
  {
   "cell_type": "code",
   "execution_count": 3,
   "metadata": {},
   "outputs": [
    {
     "name": "stdout",
     "output_type": "stream",
     "text": [
      "*******************Loading /home/owaismujtaba/BIDSSpeechDatset/rawData/F10/VCV/GOMEZCARMONA~ _67e7880a-4065-4e37-a165-58982f5f8c3c.edf File*******************\n",
      "Extracting EDF parameters from /home/owaismujtaba/BIDSSpeechDatset/rawData/F10/VCV/GOMEZCARMONA~ _67e7880a-4065-4e37-a165-58982f5f8c3c.edf...\n",
      "EDF file detected\n",
      "Setting channel info structure...\n",
      "Creating raw.info structure...\n",
      "Reading 0 ... 3055871  =      0.000 ...  5968.498 secs...\n",
      "*******************Loaded /home/owaismujtaba/BIDSSpeechDatset/rawData/F10/VCV/GOMEZCARMONA~ _67e7880a-4065-4e37-a165-58982f5f8c3c.edf File*******************\n",
      "****************Normalizing Triggers********************\n",
      "****************Correcting Triggers********************\n",
      "**************** Calculating EEG Transition Indexes********************\n"
     ]
    }
   ],
   "source": [
    "eegData = EegDataProcessor(filepathEeg)\n",
    "#audioData = AudioData(filepathAudio)"
   ]
  },
  {
   "cell_type": "code",
   "execution_count": 4,
   "metadata": {},
   "outputs": [
    {
     "data": {
      "text/plain": [
       "[['StartBlockSaying', 'Saying', 1656410777.0546875, 4636, 1007],\n",
       " ['StartReading', 'Saying', 1656410779.0214844, 5643, 769],\n",
       " ['ITI', 'Saying', 1656410780.5234375, 6412, 795],\n",
       " ['StartSaying', 'Saying', 1656410782.0761719, 7207, 769],\n",
       " ['Fixation', 'Saying', 1656410783.578125, 7976, 817]]"
      ]
     },
     "execution_count": 4,
     "metadata": {},
     "output_type": "execute_result"
    }
   ],
   "source": [
    "eegData.eegEvents[:5]"
   ]
  },
  {
   "cell_type": "code",
   "execution_count": 5,
   "metadata": {},
   "outputs": [
    {
     "data": {
      "text/plain": [
       "(3055872,)"
      ]
     },
     "execution_count": 5,
     "metadata": {},
     "output_type": "execute_result"
    }
   ],
   "source": [
    "eegData.triggers.shape"
   ]
  },
  {
   "cell_type": "code",
   "execution_count": 6,
   "metadata": {},
   "outputs": [],
   "source": [
    "from matplotlib import pyplot as plt"
   ]
  },
  {
   "cell_type": "code",
   "execution_count": 7,
   "metadata": {},
   "outputs": [
    {
     "data": {
      "text/plain": [
       "[<matplotlib.lines.Line2D at 0x752b949de550>]"
      ]
     },
     "execution_count": 7,
     "metadata": {},
     "output_type": "execute_result"
    },
    {
     "data": {
      "image/png": "[encoded data removed]",
      "text/plain": [
       "<Figure size 640x480 with 1 Axes>"
      ]
     },
     "metadata": {},
     "output_type": "display_data"
    }
   ],
   "source": [
    "plt.plot(eegData.triggersNormalized[5600:10000])"
   ]
  },
  {
   "cell_type": "code",
   "execution_count": 8,
   "metadata": {},
   "outputs": [
    {
     "data": {
      "text/plain": [
       "[['Fixation', 'Saying', 1656411207.6855469, 225119, 942],\n",
       " ['StartReading', 'Saying', 1656411209.5253906, 226061, 768],\n",
       " ['ITI', 'Saying', 1656411211.0253906, 226829, 803],\n",
       " ['StartSaying', 'Saying', 1656411212.59375, 227632, 769],\n",
       " ['Fixation', 'Saying', 1656411214.0957031, 228401, 871],\n",
       " ['StartReading', 'Saying', 1656411215.796875, 229272, 769],\n",
       " ['ITI', 'Saying', 1656411217.2988281, 230041, 832],\n",
       " ['StartSaying', 'Saying', 1656411218.9238281, 230873, 767],\n",
       " ['Fixation', 'Saying', 1656411220.421875, 231640, 1004],\n",
       " ['StartReading', 'Saying', 1656411222.3828125, 232644, 769]]"
      ]
     },
     "execution_count": 8,
     "metadata": {},
     "output_type": "execute_result"
    }
   ],
   "source": [
    "eegData.eegEvents[110:120]"
   ]
  },
  {
   "cell_type": "code",
   "execution_count": 9,
   "metadata": {},
   "outputs": [
    {
     "name": "stdout",
     "output_type": "stream",
     "text": [
      "*********************************************************************************\n",
      "***************************Loading .xdf file***************************\n",
      "*******************************Completed*******************************\n",
      "***************************Loading Audio data***************************\n"
     ]
    }
   ],
   "source": [
    "audioData = AudioDataProcessor(filepathAudio)"
   ]
  },
  {
   "cell_type": "code",
   "execution_count": 10,
   "metadata": {},
   "outputs": [
    {
     "name": "stdout",
     "output_type": "stream",
     "text": [
      "ExperimentStarted\n"
     ]
    }
   ],
   "source": [
    "for marker in audioData.markers:\n",
    "    marker = marker[0]\n",
    "    print(marker)\n",
    "    break"
   ]
  },
  {
   "cell_type": "code",
   "execution_count": 11,
   "metadata": {},
   "outputs": [
    {
     "data": {
      "text/plain": [
       "1656411161.8758757"
      ]
     },
     "execution_count": 11,
     "metadata": {},
     "output_type": "execute_result"
    }
   ],
   "source": [
    "audioData.markersTimeStamps[0]"
   ]
  },
  {
   "cell_type": "code",
   "execution_count": 12,
   "metadata": {},
   "outputs": [],
   "source": [
    "markerTimestamps = audioData.rawData[0][0]['time_stamps']\n",
    "audioTimestamps = audioData.rawData[0][1]['time_stamps']"
   ]
  },
  {
   "cell_type": "code",
   "execution_count": 13,
   "metadata": {},
   "outputs": [
    {
     "data": {
      "text/plain": [
       "((1720,), (139444200,))"
      ]
     },
     "execution_count": 13,
     "metadata": {},
     "output_type": "execute_result"
    }
   ],
   "source": [
    "import numpy as np\n",
    "markerTimestamps.shape, audioTimestamps.shape"
   ]
  },
  {
   "cell_type": "code",
   "execution_count": 18,
   "metadata": {},
   "outputs": [
    {
     "name": "stdout",
     "output_type": "stream",
     "text": [
      "1656403961.8758757 ['ExperimentStarted'] 1647646 1656403961.8758688\n",
      "1656403961.8760812 ['StartBlockSaying'] 1647655 1656403961.876073\n",
      "1656403963.5009775 ['StartReading:UKU'] 1719314 1656403963.5009758\n",
      "1656403965.0040228 ['EndReading:UKU'] 1785599 1656403965.0040205\n",
      "1656403966.7929919 ['StartSaying:UKU'] 1864494 1656403966.793003\n",
      "1656403968.2955227 ['EndSaying:UKU'] 1930756 1656403968.2955263\n",
      "1656403970.3091805 ['StartReading:IFI'] 2019559 1656403970.3091776\n",
      "1656403971.8108356 ['EndReading:IFI'] 2085783 1656403971.8108392\n",
      "1656403973.7580252 ['StartSaying:IFI'] 2171655 1656403973.7580287\n",
      "1656403975.260638 ['EndSaying:IFI'] 2237921 1656403975.2606428\n",
      "1656403977.2499244 ['StartReading:AFA'] 2325649 1656403977.249918\n",
      "[1647646, 1647655, 1719314, 1785599, 1864494, 1930756, 2019559, 2085783, 2171655, 2237921, 2325649]\n"
     ]
    }
   ],
   "source": [
    "nearest_indices = []\n",
    "index = 0\n",
    "for index in range(markerTimestamps.shape[0]):\n",
    "    marker = markerTimestamps[index]\n",
    "    differences = np.abs(audioTimestamps - marker)\n",
    "    # Find the index of the smallest difference\n",
    "    nearest_index = np.argmin(differences)\n",
    "    print(marker, audioData.markers[index], nearest_index, audioTimestamps[nearest_index])\n",
    "    # Append the index to the list\n",
    "    nearest_indices.append(nearest_index)\n",
    "    if index == 10:\n",
    "        break\n",
    "    index +=1\n",
    "\n",
    "print(nearest_indices)"
   ]
  },
  {
   "cell_type": "code",
   "execution_count": null,
   "metadata": {},
   "outputs": [],
   "source": []
  }
 ],
 "metadata": {
  "kernelspec": {
   "display_name": "Python 3 (ipykernel)",
   "language": "python",
   "name": "python3"
  },
  "language_info": {
   "codemirror_mode": {
    "name": "ipython",
    "version": 3
   },
   "file_extension": ".py",
   "mimetype": "text/x-python",
   "name": "python",
   "nbconvert_exporter": "python",
   "pygments_lexer": "ipython3",
   "version": "3.9.18"
  }
 },
 "nbformat": 4,
 "nbformat_minor": 4
}
